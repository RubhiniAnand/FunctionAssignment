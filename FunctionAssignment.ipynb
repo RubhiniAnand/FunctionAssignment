{
 "cells": [
  {
   "cell_type": "code",
   "execution_count": 3,
   "id": "ded280a0",
   "metadata": {},
   "outputs": [
    {
     "name": "stdout",
     "output_type": "stream",
     "text": [
      "Subfields in AI are:\n",
      "Machine Learning\n",
      "Neural Networks\n",
      "Vision\n",
      "Robotics\n",
      "Speech Processing\n",
      "Natural Language Processing\n"
     ]
    }
   ],
   "source": [
    "def Subfields():\n",
    "    print(\"Subfields in AI are:\")\n",
    "    print(\"Machine Learning\")\n",
    "    print(\"Neural Networks\")\n",
    "    print(\"Vision\")\n",
    "    print(\"Robotics\")\n",
    "    print(\"Speech Processing\") \n",
    "    print(\"Natural Language Processing\")\n",
    "Subfields()"
   ]
  },
  {
   "cell_type": "code",
   "execution_count": 6,
   "id": "a10833c9",
   "metadata": {},
   "outputs": [
    {
     "name": "stdout",
     "output_type": "stream",
     "text": [
      "Enter a Number:3\n",
      "3 is odd number\n"
     ]
    }
   ],
   "source": [
    "def OddEven():\n",
    "    num=int(input(\"Enter a Number:\"))\n",
    "    if((num%2)==0):\n",
    "        print(num,\"is even number\")\n",
    "        result=\"even number\"\n",
    "    else:\n",
    "        print(num,\"is odd number\")\n",
    "        result=\"odd number\"\n",
    "        return result\n",
    "OddEven()"
   ]
  },
  {
   "cell_type": "code",
   "execution_count": 31,
   "id": "f37d2dd8",
   "metadata": {},
   "outputs": [
    {
     "name": "stdout",
     "output_type": "stream",
     "text": [
      "Your Gender:male\n",
      "Your age:20\n"
     ]
    }
   ],
   "source": [
    "gen=input(\"Your Gender:\")\n",
    "age=int(input(\"Your age:\"))"
   ]
  },
  {
   "cell_type": "code",
   "execution_count": 23,
   "id": "3bb4c4c4",
   "metadata": {},
   "outputs": [],
   "source": [
    "def Eligible():\n",
    "    if(gen==\"male\" and age>=21):\n",
    "        print(\"Eligible\")\n",
    "        status=\"Eligible\"\n",
    "    elif(gen==\"Female\" and age>=18):\n",
    "        print(\"Eligible\")\n",
    "        status=\"Eligible\"\n",
    "    else:\n",
    "        print(\"Not Eligible\")\n",
    "        status=\"Not Eligible\"\n",
    "        return status"
   ]
  },
  {
   "cell_type": "code",
   "execution_count": 34,
   "id": "a9a2385a",
   "metadata": {
    "scrolled": true
   },
   "outputs": [
    {
     "name": "stdout",
     "output_type": "stream",
     "text": [
      "Not Eligible\n"
     ]
    }
   ],
   "source": [
    "marriageStatus=Eligible()"
   ]
  },
  {
   "cell_type": "code",
   "execution_count": 40,
   "id": "e6cd6606",
   "metadata": {},
   "outputs": [],
   "source": [
    "def Percentage():\n",
    "    s1=int(input(\"Subject1:\"))\n",
    "    s2=int(input(\"Subject2:\"))\n",
    "    s3=int(input(\"Subject3;\"))\n",
    "    s4=int(input(\"Subject4:\"))\n",
    "    s5=int(input(\"Subject5:\"))\n",
    "    total=s1+s2+s3+s4+s5\n",
    "    per=(total/500.0)*100\n",
    "    print(\"Total:\",total)\n",
    "    print(\"Percentage:\",per)\n",
    "    return total,per"
   ]
  },
  {
   "cell_type": "code",
   "execution_count": 42,
   "id": "cfc0ed82",
   "metadata": {},
   "outputs": [
    {
     "name": "stdout",
     "output_type": "stream",
     "text": [
      "Subject1:50\n",
      "Subject2:90\n",
      "Subject3;90\n",
      "Subject4:87\n",
      "Subject5:56\n",
      "Total: 373\n",
      "Percentage: 74.6\n"
     ]
    }
   ],
   "source": [
    "percentageOfMarks=Percentage()"
   ]
  },
  {
   "cell_type": "code",
   "execution_count": 54,
   "id": "e9057d59",
   "metadata": {},
   "outputs": [
    {
     "name": "stdout",
     "output_type": "stream",
     "text": [
      "Height:4\n",
      "Breadth:6\n",
      "Height1:7\n",
      "Height2:8\n",
      "Breadth1:8\n"
     ]
    }
   ],
   "source": [
    "h=int(input(\"Height:\"))\n",
    "b=int(input(\"Breadth:\"))\n",
    "h1=int(input(\"Height1:\"))\n",
    "h2=int(input(\"Height2:\"))\n",
    "b1=int(input(\"Breadth1:\"))"
   ]
  },
  {
   "cell_type": "code",
   "execution_count": 56,
   "id": "658aa2bb",
   "metadata": {},
   "outputs": [
    {
     "name": "stdout",
     "output_type": "stream",
     "text": [
      "Area of a triangle= 12.0\n",
      "Perimeter of a triangle= 23\n"
     ]
    }
   ],
   "source": [
    "def triangle():\n",
    "        perimeter=h1+h2+b1\n",
    "        area=(h*b)/2\n",
    "        print(\"Area of a triangle=\",area)\n",
    "        print(\"Perimeter of a triangle=\",perimeter)\n",
    "        return area,perimeter\n",
    "AreaPerimeter=triangle()\n"
   ]
  },
  {
   "cell_type": "code",
   "execution_count": null,
   "id": "64295728",
   "metadata": {},
   "outputs": [],
   "source": []
  },
  {
   "cell_type": "code",
   "execution_count": null,
   "id": "ae852b4b",
   "metadata": {},
   "outputs": [],
   "source": []
  },
  {
   "cell_type": "code",
   "execution_count": null,
   "id": "9856ef7c",
   "metadata": {},
   "outputs": [],
   "source": []
  }
 ],
 "metadata": {
  "kernelspec": {
   "display_name": "Python 3 (ipykernel)",
   "language": "python",
   "name": "python3"
  },
  "language_info": {
   "codemirror_mode": {
    "name": "ipython",
    "version": 3
   },
   "file_extension": ".py",
   "mimetype": "text/x-python",
   "name": "python",
   "nbconvert_exporter": "python",
   "pygments_lexer": "ipython3",
   "version": "3.11.4"
  }
 },
 "nbformat": 4,
 "nbformat_minor": 5
}
